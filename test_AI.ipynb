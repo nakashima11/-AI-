{
  "nbformat": 4,
  "nbformat_minor": 0,
  "metadata": {
    "colab": {
      "provenance": []
    },
    "kernelspec": {
      "name": "python3",
      "display_name": "Python 3"
    },
    "language_info": {
      "name": "python"
    }
  },
  "cells": [
    {
      "cell_type": "code",
      "execution_count": null,
      "metadata": {
        "id": "Hz77vHA76ogb"
      },
      "outputs": [],
      "source": [
        "import torch\n",
        "import torch.nn as nn\n",
        "import torch.optim as optim\n",
        "from torchvision import datasets, transforms\n",
        "from torch.utils.data import DataLoader\n",
        "import matplotlib.pyplot as plt\n"
      ]
    },
    {
      "cell_type": "code",
      "source": [
        "# MNISTデータセットの準備\n",
        "transform = transforms.Compose([\n",
        "    transforms.ToTensor(),\n",
        "    transforms.Normalize((0.5,), (0.5,))\n",
        "])\n",
        "\n",
        "train_dataset = datasets.MNIST(root=\"./data\", train=True, download=True, transform=transform)\n",
        "test_dataset = datasets.MNIST(root=\"./data\", train=False, download=True, transform=transform)\n",
        "\n",
        "train_loader = DataLoader(train_dataset, batch_size=64, shuffle=True)\n",
        "test_loader = DataLoader(test_dataset, batch_size=64, shuffle=False)"
      ],
      "metadata": {
        "id": "ZJ7sj-7C6sX0"
      },
      "execution_count": null,
      "outputs": []
    },
    {
      "cell_type": "code",
      "source": [
        "# モデルの定義\n",
        "class CNN_LSTM(nn.Module):\n",
        "    def __init__(self):\n",
        "        super(CNN_LSTM, self).__init__()\n",
        "\n",
        "        self.layer1 = nn.Sequential(\n",
        "            nn.Conv2d(1, 16, kernel_size=5, padding=2),\n",
        "            nn.BatchNorm2d(16),\n",
        "            nn.ReLU(),\n",
        "            nn.MaxPool2d(kernel_size=(1, 2), stride=2)\n",
        "        )\n",
        "        self.layer2 = nn.Sequential(\n",
        "            nn.Conv2d(16, 32, kernel_size=5, padding=2),\n",
        "            nn.BatchNorm2d(32),\n",
        "            nn.ReLU(),\n",
        "            nn.MaxPool2d(kernel_size=(1, 2), stride=2)\n",
        "        )\n",
        "        self.layer3 = nn.Sequential(\n",
        "            nn.Conv2d(32, 64, kernel_size=5, padding=2),\n",
        "            nn.BatchNorm2d(64),\n",
        "            nn.ReLU(),\n",
        "            nn.MaxPool2d(kernel_size=(1, 2), stride=2)\n",
        "        )\n",
        "        self.layer4 = torch.nn.Flatten()\n",
        "\n",
        "        self.lstm = nn.LSTM(input_size=64, hidden_size=256, num_layers=3, batch_first=True)\n",
        "\n",
        "        self.fc1 = nn.Linear(256, 128)\n",
        "        self.fc2 = nn.Linear(128, 1)\n",
        "\n",
        "    def forward(self, x):\n",
        "        out = self.layer1(x)\n",
        "        out = self.layer2(out)\n",
        "        out = self.layer3(out)\n",
        "        out = self.layer4(out)\n",
        "\n",
        "        out = out.view(out.size(0), -1, 64)\n",
        "        lstm_out, _ = self.lstm(out)\n",
        "        lstm_out = lstm_out[:, -1, :]\n",
        "\n",
        "        out = self.fc1(lstm_out)\n",
        "        out = self.fc2(out)\n",
        "        return out"
      ],
      "metadata": {
        "id": "6VQBhCG46sNZ"
      },
      "execution_count": null,
      "outputs": []
    },
    {
      "cell_type": "code",
      "source": [
        "device = torch.device(\"cuda\" if torch.cuda.is_available() else \"cpu\")\n",
        "model = CNN_LSTM().to(device)\n",
        "criterion = nn.CrossEntropyLoss()\n",
        "optimizer = optim.Adam(model.parameters(), lr=0.001)"
      ],
      "metadata": {
        "id": "_j6hNo8E68EM"
      },
      "execution_count": null,
      "outputs": []
    },
    {
      "cell_type": "code",
      "source": [
        " #モデルの学習\n",
        "def train_model():\n",
        "    model.train()\n",
        "    for epoch in range(5):\n",
        "        running_loss = 0.0\n",
        "        for images, labels in train_loader:\n",
        "            images, labels = images.to(device), labels.to(device)\n",
        "\n",
        "            # 順伝播\n",
        "            outputs = model(images)\n",
        "            loss = criterion(outputs, labels)\n",
        "\n",
        "            # 逆伝播と最適化\n",
        "            optimizer.zero_grad()\n",
        "            loss.backward()\n",
        "            optimizer.step()\n",
        "\n",
        "            running_loss += loss.item()\n",
        "        print(f\"Epoch [{epoch + 1}/5], Loss: {running_loss / len(train_loader):.4f}\")\n",
        "\n",
        "    # モデルを保存\n",
        "    torch.save(model.state_dict(), \"cnn_lstm_mnist.pth\")\n",
        "    print(\"Model saved as cnn_lstm_mnist.pth\")\n"
      ],
      "metadata": {
        "id": "hHaorHh37AZh"
      },
      "execution_count": null,
      "outputs": []
    },
    {
      "cell_type": "code",
      "source": [
        "# テストデータでの評価\n",
        "def evaluate_model():\n",
        "    model.eval()\n",
        "    correct = 0\n",
        "    total = 0\n",
        "    with torch.no_grad():\n",
        "        for images, labels in test_loader:\n",
        "            images, labels = images.to(device), labels.to(device)\n",
        "            outputs = model(images)\n",
        "            _, predicted = torch.max(outputs.data, 1)\n",
        "            total += labels.size(0)\n",
        "            correct += (predicted == labels).sum().item()\n",
        "    print(f\"Accuracy: {100 * correct / total:.2f}%\")"
      ],
      "metadata": {
        "id": "atdtNQTr7DLX"
      },
      "execution_count": null,
      "outputs": []
    },
    {
      "cell_type": "code",
      "source": [
        "# 学習と評価の実行\n",
        "train_model()\n",
        "evaluate_model()"
      ],
      "metadata": {
        "colab": {
          "base_uri": "https://localhost:8080/"
        },
        "id": "GdCo2jE_7J75",
        "outputId": "a085859e-0fa4-4340-b6de-32db0bc8170e"
      },
      "execution_count": null,
      "outputs": [
        {
          "output_type": "stream",
          "name": "stdout",
          "text": [
            "Epoch [1/5], Loss: 0.2530\n",
            "Epoch [2/5], Loss: 0.0778\n",
            "Epoch [3/5], Loss: 0.0550\n",
            "Epoch [4/5], Loss: 0.0451\n",
            "Epoch [5/5], Loss: 0.0370\n",
            "Model saved as cnn_lstm_mnist.pth\n",
            "Accuracy: 98.83%\n"
          ]
        }
      ]
    },
    {
      "cell_type": "code",
      "source": [
        "# 推論の実行と画像表示\n",
        "def predict_and_display():\n",
        "    model.eval()\n",
        "    sample, label = test_dataset[0]\n",
        "    sample = sample.unsqueeze(0).to(device)\n",
        "    with torch.no_grad():\n",
        "        output = model(sample)\n",
        "        _, predicted = torch.max(output.data, 1)\n",
        "\n",
        "    # 画像の表示\n",
        "    plt.imshow(sample.cpu().squeeze().numpy(), cmap=\"gray\")\n",
        "    plt.title(f\"True Label: {label}, Predicted: {predicted.item()}\")\n",
        "    plt.axis(\"off\")\n",
        "    plt.show()\n",
        "\n",
        "predict_and_display()"
      ],
      "metadata": {
        "colab": {
          "base_uri": "https://localhost:8080/",
          "height": 428
        },
        "id": "EY9PSudC7MZL",
        "outputId": "7990a8c0-9690-4af8-b4d9-85737615a206"
      },
      "execution_count": null,
      "outputs": [
        {
          "output_type": "display_data",
          "data": {
            "text/plain": [
              "<Figure size 640x480 with 1 Axes>"
            ],
            "image/png": "[encoded data removed]"
          },
          "metadata": {}
        }
      ]
    },
    {
      "cell_type": "code",
      "source": [
        "import torch\n",
        "import matplotlib.pyplot as plt\n",
        "from torchvision import datasets, transforms\n",
        "import random"
      ],
      "metadata": {
        "id": "wkAqxVFe7PRS"
      },
      "execution_count": null,
      "outputs": []
    },
    {
      "cell_type": "code",
      "source": [
        "# モデルクラスの定義\n",
        "class CNN_LSTM(nn.Module):\n",
        "    def __init__(self):\n",
        "        super(CNN_LSTM, self).__init__()\n",
        "\n",
        "        self.layer1 = nn.Sequential(\n",
        "            nn.Conv2d(1, 16, kernel_size=5, padding=2),\n",
        "            nn.BatchNorm2d(16),\n",
        "            nn.ReLU(),\n",
        "            nn.MaxPool2d(kernel_size=(1, 2), stride=2)\n",
        "        )\n",
        "        self.layer2 = nn.Sequential(\n",
        "            nn.Conv2d(16, 32, kernel_size=5, padding=2),\n",
        "            nn.BatchNorm2d(32),\n",
        "            nn.ReLU(),\n",
        "            nn.MaxPool2d(kernel_size=(1, 2), stride=2)\n",
        "        )\n",
        "        self.layer3 = nn.Sequential(\n",
        "            nn.Conv2d(32, 64, kernel_size=5, padding=2),\n",
        "            nn.BatchNorm2d(64),\n",
        "            nn.ReLU(),\n",
        "            nn.MaxPool2d(kernel_size=(1, 2), stride=2)\n",
        "        )\n",
        "        self.layer4 = torch.nn.Flatten()\n",
        "\n",
        "        self.lstm = nn.LSTM(input_size=64, hidden_size=256, num_layers=3, batch_first=True)\n",
        "\n",
        "        self.fc1 = nn.Linear(256, 128)\n",
        "        self.fc2 = nn.Linear(128, 10)\n",
        "\n",
        "    def forward(self, x):\n",
        "        out = self.layer1(x)\n",
        "        out = self.layer2(out)\n",
        "        out = self.layer3(out)\n",
        "        out = self.layer4(out)\n",
        "\n",
        "        out = out.view(out.size(0), -1, 64)\n",
        "        lstm_out, _ = self.lstm(out)\n",
        "        lstm_out = lstm_out[:, -1, :]\n",
        "\n",
        "        out = self.fc1(lstm_out)\n",
        "        out = self.fc2(out)\n",
        "        return out\n"
      ],
      "metadata": {
        "id": "7Om31SUx7ZFI"
      },
      "execution_count": null,
      "outputs": []
    },
    {
      "cell_type": "code",
      "source": [
        "# デバイス設定\n",
        "device = torch.device(\"cuda\" if torch.cuda.is_available() else \"cpu\")\n",
        "\n",
        "# モデルの初期化とロード\n",
        "model = CNN_LSTM().to(device)\n",
        "model.load_state_dict(torch.load(\"cnn_lstm_mnist.pth\"))\n",
        "model.eval()\n",
        "\n",
        "# MNISTデータセットの準備\n",
        "transform = transforms.Compose([\n",
        "    transforms.ToTensor(),\n",
        "    transforms.Normalize((0.5,), (0.5,))\n",
        "])\n",
        "test_dataset = datasets.MNIST(root=\"./data\", train=False, download=True, transform=transform)\n"
      ],
      "metadata": {
        "id": "z6KTAaPQ7x8e"
      },
      "execution_count": null,
      "outputs": []
    },
    {
      "cell_type": "code",
      "source": [
        "# 各ラベルごとにランダムな画像を抽選して推論\n",
        "def display_random_predictions():\n",
        "    random_indices = {label: random.choice([i for i, (_, l) in enumerate(test_dataset) if l == label]) for label in range(10)}\n",
        "\n",
        "    plt.figure(figsize=(15, 8))  # 図のサイズを指定\n",
        "\n",
        "    for label, index in random_indices.items():\n",
        "        image, true_label = test_dataset[index]\n",
        "        image_tensor = image.unsqueeze(0).to(device)  # バッチ次元を追加\n",
        "        with torch.no_grad():\n",
        "            output = model(image_tensor)\n",
        "            _, predicted = torch.max(output.data, 1)\n",
        "\n",
        "        # 画像と推論結果をプロット\n",
        "        plt.subplot(2, 5, label + 1)\n",
        "        plt.imshow(image.squeeze().numpy(), cmap=\"gray\")\n",
        "        plt.title(f\"True: {true_label}, Pred: {predicted.item()}\")\n",
        "        plt.axis(\"off\")\n",
        "\n",
        "    plt.tight_layout()\n",
        "    plt.show()\n",
        "\n",
        "# ランダムな画像で推論を表示\n",
        "display_random_predictions()"
      ],
      "metadata": {
        "colab": {
          "base_uri": "https://localhost:8080/",
          "height": 705
        },
        "id": "UgUmO9j574TM",
        "outputId": "9bbb5739-e6ed-4291-f7f1-e572f7ca843a"
      },
      "execution_count": null,
      "outputs": [
        {
          "output_type": "display_data",
          "data": {
            "text/plain": [
              "<Figure size 1500x800 with 10 Axes>"
            ],
            "image/png": "[encoded data removed]"
          },
          "metadata": {}
        }
      ]
    }
  ]
}